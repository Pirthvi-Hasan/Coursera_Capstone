{
 "cells": [
  {
   "cell_type": "markdown",
   "metadata": {
    "collapsed": true
   },
   "source": [
    "## Capstone Project - Restaurants in Coimbatore"
   ]
  },
  {
   "cell_type": "markdown",
   "metadata": {},
   "source": [
    "## Introduction / Business Problem"
   ]
  },
  {
   "cell_type": "markdown",
   "metadata": {},
   "source": [
    "In city of Coimbatore, if someone is looking to open a restaurant, the question is where would you recommend that they open it? The background of the problem is that in order for a restaurant to be profitable, there must be enough customers, and in order to have enough customers, it is not worth setting up a café in the immediate promixity of existing ones.\n",
    "\n",
    "Let's also make sure that **audience** is explicitly defined to be the **local restaurant entrepreuners** in Coimbatore and they should care about this problem because the location of the new restaurant has a significant impact on their expected returns."
   ]
  }
 ],
 "metadata": {
  "kernelspec": {
   "display_name": "Python 3.7",
   "language": "python",
   "name": "python3"
  },
  "language_info": {
   "codemirror_mode": {
    "name": "ipython",
    "version": 3
   },
   "file_extension": ".py",
   "mimetype": "text/x-python",
   "name": "python",
   "nbconvert_exporter": "python",
   "pygments_lexer": "ipython3",
   "version": "3.7.9"
  }
 },
 "nbformat": 4,
 "nbformat_minor": 1
}
